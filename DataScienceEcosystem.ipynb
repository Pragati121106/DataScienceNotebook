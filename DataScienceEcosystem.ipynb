{
 "cells": [
  {
   "cell_type": "markdown",
   "id": "5bf9df49-6df8-4e0a-8369-46e3435f8c91",
   "metadata": {},
   "source": [
    "# Data Science Tools and Ecosystem"
   ]
  },
  {
   "cell_type": "markdown",
   "id": "14ed4754-a44b-4396-9ea9-88e5b2ad7503",
   "metadata": {},
   "source": [
    "## In this notebook, Data Science Tools and Ecosystem are summarized."
   ]
  },
  {
   "cell_type": "markdown",
   "id": "dfb466f0-1f9b-43fc-95d1-60038526c211",
   "metadata": {},
   "source": [
    "## Some of the popular languages that Data Scientists use are:\n",
    "1. Python  \n",
    "2. R  \n",
    "3. SQL  \n",
    "4. Julia  \n",
    "5. Scala"
   ]
  },
  {
   "cell_type": "markdown",
   "id": "c90346ad-052c-4fe6-8853-f9b64f27830e",
   "metadata": {},
   "source": [
    "## Some of the commonly used libraries used by Data Scientists include:\n",
    "\n",
    "1. NumPy  \n",
    "2. Pandas  \n",
    "3. Matplotlib  \n",
    "4. Scikit-learn  \n",
    "5. TensorFlow"
   ]
  },
  {
   "cell_type": "markdown",
   "id": "042124e2-9911-48e4-8d5a-49ff93f9c86d",
   "metadata": {},
   "source": [
    "## Data Science Tools\n",
    "\n",
    "| Data Science Tools       |\n",
    "|---------------------------|\n",
    "| Google Colab              |\n",
    "| Rstudio                   |\n",
    "| Jupyter Notebook          |  \n"
   ]
  },
  {
   "cell_type": "markdown",
   "id": "13b906b0-b46f-4444-acd0-2adbc195d01f",
   "metadata": {},
   "source": [
    "### Below are a few examples of evaluating arithmetic expressions in Python"
   ]
  },
  {
   "cell_type": "code",
   "execution_count": 6,
   "id": "8b0810bf-673c-4648-acf9-c8bd17ffe6da",
   "metadata": {},
   "outputs": [
    {
     "name": "stdout",
     "output_type": "stream",
     "text": [
      "Addition : 60\n",
      "Subtraction : 40\n"
     ]
    }
   ],
   "source": [
    "x = 50 \n",
    "y = 10\n",
    "add = x + y\n",
    "print(\"Addition :\",add)\n",
    "sub = x - y\n",
    "print(\"Subtraction :\",sub)"
   ]
  },
  {
   "cell_type": "code",
   "execution_count": 7,
   "id": "12efb836-cac1-45a6-9764-2be72b783dff",
   "metadata": {},
   "outputs": [
    {
     "name": "stdout",
     "output_type": "stream",
     "text": [
      "17\n"
     ]
    }
   ],
   "source": [
    "exp = (3*4)+5 #This a simple arithmetic expression to mutiply then add integers\n",
    "print(exp)"
   ]
  },
  {
   "cell_type": "code",
   "execution_count": 8,
   "id": "a5aa6a5c-896e-45bf-a728-42996bef2f81",
   "metadata": {},
   "outputs": [
    {
     "name": "stdout",
     "output_type": "stream",
     "text": [
      "3.3333333333333335\n"
     ]
    }
   ],
   "source": [
    "#This will convert 200 minutes to hours by diving by 60\n",
    "hours = 200/60\n",
    "print(hours)"
   ]
  },
  {
   "cell_type": "markdown",
   "id": "e665f4a0-8393-4348-ba69-982bba19023f",
   "metadata": {},
   "source": [
    "**Objectives:**\n",
    "- List popular languages for Data Science\n",
    "- Identify commonly used Data Science tools\n",
    "- Demonstrate basic arithmetic operations in Python\n",
    "- Understand the structure of a Jupyter Notebook\n",
    "- Learn how to document analysis using Markdown\n"
   ]
  },
  {
   "cell_type": "markdown",
   "id": "a2163d75-78b0-463b-88fb-a9eba57720e4",
   "metadata": {},
   "source": [
    "## Author\n",
    "Pragati"
   ]
  },
  {
   "cell_type": "code",
   "execution_count": null,
   "id": "9c7d68e3-c696-4710-90f1-4b2ee52cd923",
   "metadata": {},
   "outputs": [],
   "source": []
  }
 ],
 "metadata": {
  "kernelspec": {
   "display_name": "anaconda-panel-2023.05-py310",
   "language": "python",
   "name": "conda-env-anaconda-panel-2023.05-py310-py"
  },
  "language_info": {
   "codemirror_mode": {
    "name": "ipython",
    "version": 3
   },
   "file_extension": ".py",
   "mimetype": "text/x-python",
   "name": "python",
   "nbconvert_exporter": "python",
   "pygments_lexer": "ipython3",
   "version": "3.11.5"
  }
 },
 "nbformat": 4,
 "nbformat_minor": 5
}
